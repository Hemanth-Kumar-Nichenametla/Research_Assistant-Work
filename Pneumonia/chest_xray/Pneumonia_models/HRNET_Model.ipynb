{
 "cells": [
  {
   "cell_type": "code",
   "execution_count": 60,
   "metadata": {},
   "outputs": [],
   "source": [
    "import tensorflow as tf\n",
    "from tensorflow import keras\n",
    "from tensorflow.keras.layers import Input, Conv2D, BatchNormalization, Activation, Add, UpSampling2D, AveragePooling2D\n",
    "from tensorflow.keras.models import Model\n"
   ]
  },
  {
   "cell_type": "code",
   "execution_count": 53,
   "metadata": {},
   "outputs": [],
   "source": [
    "# Define the HRNet architecture\n",
    "def make_hrnet(input_shape, num_classes):\n",
    "    input_tensor = Input(shape=input_shape)\n",
    "\n",
    "    # Initial Conv Layer\n",
    "    x = Conv2D(64, (3, 3), strides=(1, 1), padding='same')(input_tensor)\n",
    "    x = BatchNormalization()(x)\n",
    "    x = Activation('relu')(x)\n",
    "\n",
    "    # Stage 1\n",
    "    x1 = stage(x, 64, num_blocks=4, stage=1)\n",
    "    x2 = transition(x1, [256, 512], stage=1)\n",
    "    x3 = stage(x2, 128, num_blocks=3, stage=1)\n",
    "    x4 = transition(x3, [256, 512], stage=1)\n",
    "    \n",
    "    # Classification Head\n",
    "    x = AveragePooling2D(pool_size=(7, 7))(x4)\n",
    "    x = Flatten()(x)\n",
    "    x = Dense(num_classes, activation='softmax')(x)\n",
    "\n",
    "    model = Model(inputs=input_tensor, outputs=x)\n",
    "    return model"
   ]
  },
  {
   "cell_type": "code",
   "execution_count": 54,
   "metadata": {},
   "outputs": [],
   "source": [
    "# Define a single HRNet stage\n",
    "def stage(input_tensor, num_filters, num_blocks, stage):\n",
    "    x = input_tensor\n",
    "    for block in range(1, num_blocks + 1):\n",
    "        x = bottleneck(x, num_filters, stage, block)\n",
    "    return x"
   ]
  },
  {
   "cell_type": "code",
   "execution_count": 55,
   "metadata": {},
   "outputs": [],
   "source": [
    "# Define a bottleneck block\n",
    "def bottleneck(input_tensor, num_filters, stage, block):\n",
    "    filters = num_filters * 4\n",
    "    x = Conv2D(filters, (1, 1), strides=(1, 1), padding='same')(input_tensor)\n",
    "    x = BatchNormalization()(x)\n",
    "    x = Activation('relu')(x)\n",
    "\n",
    "    x = Conv2D(filters, (3, 3), strides=(1, 1), padding='same')(x)\n",
    "    x = BatchNormalization()(x)\n",
    "    x = Activation('relu')(x)\n",
    "\n",
    "    x = Conv2D(filters, (1, 1), strides=(1, 1), padding='same')(x)\n",
    "    x = BatchNormalization()(x)\n",
    "\n",
    "    # Residual connection\n",
    "    shortcut = Conv2D(filters, (1, 1), strides=(1, 1), padding='same')(input_tensor)\n",
    "    shortcut = BatchNormalization()(shortcut)\n",
    "\n",
    "    x = Add()([x, shortcut])\n",
    "    x = Activation('relu')(x)\n",
    "    return x"
   ]
  },
  {
   "cell_type": "code",
   "execution_count": 56,
   "metadata": {},
   "outputs": [],
   "source": [
    "# Define a transition layer\n",
    "def transition(input_tensor, num_filters, stage):\n",
    "    x = Conv2D(sum(num_filters), (3, 3), strides=(2, 2), padding='same')(input_tensor)\n",
    "    x = BatchNormalization()(x)\n",
    "    x = Activation('relu')(x)\n",
    "    x = UpSampling2D()(x)\n",
    "    return x"
   ]
  },
  {
   "cell_type": "code",
   "execution_count": 58,
   "metadata": {},
   "outputs": [],
   "source": [
    "# Define the image size and number of classes\n",
    "IMAGE_SIZE = (224, 224, 3)  # Adjust the size as needed\n",
    "NUM_CLASSES = 2"
   ]
  },
  {
   "cell_type": "code",
   "execution_count": 61,
   "metadata": {},
   "outputs": [],
   "source": [
    "# Create the HRNet model\n",
    "hrnet_model = make_hrnet(IMAGE_SIZE, NUM_CLASSES)\n"
   ]
  },
  {
   "cell_type": "code",
   "execution_count": 62,
   "metadata": {},
   "outputs": [
    {
     "name": "stdout",
     "output_type": "stream",
     "text": [
      "Model: \"model_1\"\n",
      "__________________________________________________________________________________________________\n",
      " Layer (type)                Output Shape                 Param #   Connected to                  \n",
      "==================================================================================================\n",
      " input_3 (InputLayer)        [(None, 224, 224, 3)]        0         []                            \n",
      "                                                                                                  \n",
      " conv2d_59 (Conv2D)          (None, 224, 224, 64)         1792      ['input_3[0][0]']             \n",
      "                                                                                                  \n",
      " batch_normalization_59 (Ba  (None, 224, 224, 64)         256       ['conv2d_59[0][0]']           \n",
      " tchNormalization)                                                                                \n",
      "                                                                                                  \n",
      " activation_24 (Activation)  (None, 224, 224, 64)         0         ['batch_normalization_59[0][0]\n",
      "                                                                    ']                            \n",
      "                                                                                                  \n",
      " conv2d_60 (Conv2D)          (None, 224, 224, 256)        16640     ['activation_24[0][0]']       \n",
      "                                                                                                  \n",
      " batch_normalization_60 (Ba  (None, 224, 224, 256)        1024      ['conv2d_60[0][0]']           \n",
      " tchNormalization)                                                                                \n",
      "                                                                                                  \n",
      " activation_25 (Activation)  (None, 224, 224, 256)        0         ['batch_normalization_60[0][0]\n",
      "                                                                    ']                            \n",
      "                                                                                                  \n",
      " conv2d_61 (Conv2D)          (None, 224, 224, 256)        590080    ['activation_25[0][0]']       \n",
      "                                                                                                  \n",
      " batch_normalization_61 (Ba  (None, 224, 224, 256)        1024      ['conv2d_61[0][0]']           \n",
      " tchNormalization)                                                                                \n",
      "                                                                                                  \n",
      " activation_26 (Activation)  (None, 224, 224, 256)        0         ['batch_normalization_61[0][0]\n",
      "                                                                    ']                            \n",
      "                                                                                                  \n",
      " conv2d_62 (Conv2D)          (None, 224, 224, 256)        65792     ['activation_26[0][0]']       \n",
      "                                                                                                  \n",
      " conv2d_63 (Conv2D)          (None, 224, 224, 256)        16640     ['activation_24[0][0]']       \n",
      "                                                                                                  \n",
      " batch_normalization_62 (Ba  (None, 224, 224, 256)        1024      ['conv2d_62[0][0]']           \n",
      " tchNormalization)                                                                                \n",
      "                                                                                                  \n",
      " batch_normalization_63 (Ba  (None, 224, 224, 256)        1024      ['conv2d_63[0][0]']           \n",
      " tchNormalization)                                                                                \n",
      "                                                                                                  \n",
      " add_16 (Add)                (None, 224, 224, 256)        0         ['batch_normalization_62[0][0]\n",
      "                                                                    ',                            \n",
      "                                                                     'batch_normalization_63[0][0]\n",
      "                                                                    ']                            \n",
      "                                                                                                  \n",
      " activation_27 (Activation)  (None, 224, 224, 256)        0         ['add_16[0][0]']              \n",
      "                                                                                                  \n",
      " conv2d_64 (Conv2D)          (None, 224, 224, 256)        65792     ['activation_27[0][0]']       \n",
      "                                                                                                  \n",
      " batch_normalization_64 (Ba  (None, 224, 224, 256)        1024      ['conv2d_64[0][0]']           \n",
      " tchNormalization)                                                                                \n",
      "                                                                                                  \n",
      " activation_28 (Activation)  (None, 224, 224, 256)        0         ['batch_normalization_64[0][0]\n",
      "                                                                    ']                            \n",
      "                                                                                                  \n",
      " conv2d_65 (Conv2D)          (None, 224, 224, 256)        590080    ['activation_28[0][0]']       \n",
      "                                                                                                  \n",
      " batch_normalization_65 (Ba  (None, 224, 224, 256)        1024      ['conv2d_65[0][0]']           \n",
      " tchNormalization)                                                                                \n",
      "                                                                                                  \n",
      " activation_29 (Activation)  (None, 224, 224, 256)        0         ['batch_normalization_65[0][0]\n",
      "                                                                    ']                            \n",
      "                                                                                                  \n",
      " conv2d_66 (Conv2D)          (None, 224, 224, 256)        65792     ['activation_29[0][0]']       \n",
      "                                                                                                  \n",
      " conv2d_67 (Conv2D)          (None, 224, 224, 256)        65792     ['activation_27[0][0]']       \n",
      "                                                                                                  \n",
      " batch_normalization_66 (Ba  (None, 224, 224, 256)        1024      ['conv2d_66[0][0]']           \n",
      " tchNormalization)                                                                                \n",
      "                                                                                                  \n",
      " batch_normalization_67 (Ba  (None, 224, 224, 256)        1024      ['conv2d_67[0][0]']           \n",
      " tchNormalization)                                                                                \n",
      "                                                                                                  \n",
      " add_17 (Add)                (None, 224, 224, 256)        0         ['batch_normalization_66[0][0]\n",
      "                                                                    ',                            \n",
      "                                                                     'batch_normalization_67[0][0]\n",
      "                                                                    ']                            \n",
      "                                                                                                  \n",
      " activation_30 (Activation)  (None, 224, 224, 256)        0         ['add_17[0][0]']              \n",
      "                                                                                                  \n",
      " conv2d_68 (Conv2D)          (None, 224, 224, 256)        65792     ['activation_30[0][0]']       \n",
      "                                                                                                  \n",
      " batch_normalization_68 (Ba  (None, 224, 224, 256)        1024      ['conv2d_68[0][0]']           \n",
      " tchNormalization)                                                                                \n",
      "                                                                                                  \n",
      " activation_31 (Activation)  (None, 224, 224, 256)        0         ['batch_normalization_68[0][0]\n",
      "                                                                    ']                            \n",
      "                                                                                                  \n",
      " conv2d_69 (Conv2D)          (None, 224, 224, 256)        590080    ['activation_31[0][0]']       \n",
      "                                                                                                  \n",
      " batch_normalization_69 (Ba  (None, 224, 224, 256)        1024      ['conv2d_69[0][0]']           \n",
      " tchNormalization)                                                                                \n",
      "                                                                                                  \n",
      " activation_32 (Activation)  (None, 224, 224, 256)        0         ['batch_normalization_69[0][0]\n",
      "                                                                    ']                            \n",
      "                                                                                                  \n",
      " conv2d_70 (Conv2D)          (None, 224, 224, 256)        65792     ['activation_32[0][0]']       \n",
      "                                                                                                  \n",
      " conv2d_71 (Conv2D)          (None, 224, 224, 256)        65792     ['activation_30[0][0]']       \n",
      "                                                                                                  \n",
      " batch_normalization_70 (Ba  (None, 224, 224, 256)        1024      ['conv2d_70[0][0]']           \n",
      " tchNormalization)                                                                                \n",
      "                                                                                                  \n",
      " batch_normalization_71 (Ba  (None, 224, 224, 256)        1024      ['conv2d_71[0][0]']           \n",
      " tchNormalization)                                                                                \n",
      "                                                                                                  \n",
      " add_18 (Add)                (None, 224, 224, 256)        0         ['batch_normalization_70[0][0]\n",
      "                                                                    ',                            \n",
      "                                                                     'batch_normalization_71[0][0]\n",
      "                                                                    ']                            \n",
      "                                                                                                  \n",
      " activation_33 (Activation)  (None, 224, 224, 256)        0         ['add_18[0][0]']              \n",
      "                                                                                                  \n",
      " conv2d_72 (Conv2D)          (None, 224, 224, 256)        65792     ['activation_33[0][0]']       \n",
      "                                                                                                  \n",
      " batch_normalization_72 (Ba  (None, 224, 224, 256)        1024      ['conv2d_72[0][0]']           \n",
      " tchNormalization)                                                                                \n",
      "                                                                                                  \n",
      " activation_34 (Activation)  (None, 224, 224, 256)        0         ['batch_normalization_72[0][0]\n",
      "                                                                    ']                            \n",
      "                                                                                                  \n",
      " conv2d_73 (Conv2D)          (None, 224, 224, 256)        590080    ['activation_34[0][0]']       \n",
      "                                                                                                  \n",
      " batch_normalization_73 (Ba  (None, 224, 224, 256)        1024      ['conv2d_73[0][0]']           \n",
      " tchNormalization)                                                                                \n",
      "                                                                                                  \n",
      " activation_35 (Activation)  (None, 224, 224, 256)        0         ['batch_normalization_73[0][0]\n",
      "                                                                    ']                            \n",
      "                                                                                                  \n",
      " conv2d_74 (Conv2D)          (None, 224, 224, 256)        65792     ['activation_35[0][0]']       \n",
      "                                                                                                  \n",
      " conv2d_75 (Conv2D)          (None, 224, 224, 256)        65792     ['activation_33[0][0]']       \n",
      "                                                                                                  \n",
      " batch_normalization_74 (Ba  (None, 224, 224, 256)        1024      ['conv2d_74[0][0]']           \n",
      " tchNormalization)                                                                                \n",
      "                                                                                                  \n",
      " batch_normalization_75 (Ba  (None, 224, 224, 256)        1024      ['conv2d_75[0][0]']           \n",
      " tchNormalization)                                                                                \n",
      "                                                                                                  \n",
      " add_19 (Add)                (None, 224, 224, 256)        0         ['batch_normalization_74[0][0]\n",
      "                                                                    ',                            \n",
      "                                                                     'batch_normalization_75[0][0]\n",
      "                                                                    ']                            \n",
      "                                                                                                  \n",
      " activation_36 (Activation)  (None, 224, 224, 256)        0         ['add_19[0][0]']              \n",
      "                                                                                                  \n",
      " conv2d_76 (Conv2D)          (None, 112, 112, 768)        1770240   ['activation_36[0][0]']       \n",
      "                                                                                                  \n",
      " batch_normalization_76 (Ba  (None, 112, 112, 768)        3072      ['conv2d_76[0][0]']           \n",
      " tchNormalization)                                                                                \n",
      "                                                                                                  \n",
      " activation_37 (Activation)  (None, 112, 112, 768)        0         ['batch_normalization_76[0][0]\n",
      "                                                                    ']                            \n",
      "                                                                                                  \n",
      " up_sampling2d_7 (UpSamplin  (None, 224, 224, 768)        0         ['activation_37[0][0]']       \n",
      " g2D)                                                                                             \n",
      "                                                                                                  \n",
      " conv2d_77 (Conv2D)          (None, 224, 224, 512)        393728    ['up_sampling2d_7[0][0]']     \n",
      "                                                                                                  \n",
      " batch_normalization_77 (Ba  (None, 224, 224, 512)        2048      ['conv2d_77[0][0]']           \n",
      " tchNormalization)                                                                                \n",
      "                                                                                                  \n",
      " activation_38 (Activation)  (None, 224, 224, 512)        0         ['batch_normalization_77[0][0]\n",
      "                                                                    ']                            \n",
      "                                                                                                  \n",
      " conv2d_78 (Conv2D)          (None, 224, 224, 512)        2359808   ['activation_38[0][0]']       \n",
      "                                                                                                  \n",
      " batch_normalization_78 (Ba  (None, 224, 224, 512)        2048      ['conv2d_78[0][0]']           \n",
      " tchNormalization)                                                                                \n",
      "                                                                                                  \n",
      " activation_39 (Activation)  (None, 224, 224, 512)        0         ['batch_normalization_78[0][0]\n",
      "                                                                    ']                            \n",
      "                                                                                                  \n",
      " conv2d_79 (Conv2D)          (None, 224, 224, 512)        262656    ['activation_39[0][0]']       \n",
      "                                                                                                  \n",
      " conv2d_80 (Conv2D)          (None, 224, 224, 512)        393728    ['up_sampling2d_7[0][0]']     \n",
      "                                                                                                  \n",
      " batch_normalization_79 (Ba  (None, 224, 224, 512)        2048      ['conv2d_79[0][0]']           \n",
      " tchNormalization)                                                                                \n",
      "                                                                                                  \n",
      " batch_normalization_80 (Ba  (None, 224, 224, 512)        2048      ['conv2d_80[0][0]']           \n",
      " tchNormalization)                                                                                \n",
      "                                                                                                  \n",
      " add_20 (Add)                (None, 224, 224, 512)        0         ['batch_normalization_79[0][0]\n",
      "                                                                    ',                            \n",
      "                                                                     'batch_normalization_80[0][0]\n",
      "                                                                    ']                            \n",
      "                                                                                                  \n",
      " activation_40 (Activation)  (None, 224, 224, 512)        0         ['add_20[0][0]']              \n",
      "                                                                                                  \n",
      " conv2d_81 (Conv2D)          (None, 224, 224, 512)        262656    ['activation_40[0][0]']       \n",
      "                                                                                                  \n",
      " batch_normalization_81 (Ba  (None, 224, 224, 512)        2048      ['conv2d_81[0][0]']           \n",
      " tchNormalization)                                                                                \n",
      "                                                                                                  \n",
      " activation_41 (Activation)  (None, 224, 224, 512)        0         ['batch_normalization_81[0][0]\n",
      "                                                                    ']                            \n",
      "                                                                                                  \n",
      " conv2d_82 (Conv2D)          (None, 224, 224, 512)        2359808   ['activation_41[0][0]']       \n",
      "                                                                                                  \n",
      " batch_normalization_82 (Ba  (None, 224, 224, 512)        2048      ['conv2d_82[0][0]']           \n",
      " tchNormalization)                                                                                \n",
      "                                                                                                  \n",
      " activation_42 (Activation)  (None, 224, 224, 512)        0         ['batch_normalization_82[0][0]\n",
      "                                                                    ']                            \n",
      "                                                                                                  \n",
      " conv2d_83 (Conv2D)          (None, 224, 224, 512)        262656    ['activation_42[0][0]']       \n",
      "                                                                                                  \n",
      " conv2d_84 (Conv2D)          (None, 224, 224, 512)        262656    ['activation_40[0][0]']       \n",
      "                                                                                                  \n",
      " batch_normalization_83 (Ba  (None, 224, 224, 512)        2048      ['conv2d_83[0][0]']           \n",
      " tchNormalization)                                                                                \n",
      "                                                                                                  \n",
      " batch_normalization_84 (Ba  (None, 224, 224, 512)        2048      ['conv2d_84[0][0]']           \n",
      " tchNormalization)                                                                                \n",
      "                                                                                                  \n",
      " add_21 (Add)                (None, 224, 224, 512)        0         ['batch_normalization_83[0][0]\n",
      "                                                                    ',                            \n",
      "                                                                     'batch_normalization_84[0][0]\n",
      "                                                                    ']                            \n",
      "                                                                                                  \n",
      " activation_43 (Activation)  (None, 224, 224, 512)        0         ['add_21[0][0]']              \n",
      "                                                                                                  \n",
      " conv2d_85 (Conv2D)          (None, 224, 224, 512)        262656    ['activation_43[0][0]']       \n",
      "                                                                                                  \n",
      " batch_normalization_85 (Ba  (None, 224, 224, 512)        2048      ['conv2d_85[0][0]']           \n",
      " tchNormalization)                                                                                \n",
      "                                                                                                  \n",
      " activation_44 (Activation)  (None, 224, 224, 512)        0         ['batch_normalization_85[0][0]\n",
      "                                                                    ']                            \n",
      "                                                                                                  \n",
      " conv2d_86 (Conv2D)          (None, 224, 224, 512)        2359808   ['activation_44[0][0]']       \n",
      "                                                                                                  \n",
      " batch_normalization_86 (Ba  (None, 224, 224, 512)        2048      ['conv2d_86[0][0]']           \n",
      " tchNormalization)                                                                                \n",
      "                                                                                                  \n",
      " activation_45 (Activation)  (None, 224, 224, 512)        0         ['batch_normalization_86[0][0]\n",
      "                                                                    ']                            \n",
      "                                                                                                  \n",
      " conv2d_87 (Conv2D)          (None, 224, 224, 512)        262656    ['activation_45[0][0]']       \n",
      "                                                                                                  \n",
      " conv2d_88 (Conv2D)          (None, 224, 224, 512)        262656    ['activation_43[0][0]']       \n",
      "                                                                                                  \n",
      " batch_normalization_87 (Ba  (None, 224, 224, 512)        2048      ['conv2d_87[0][0]']           \n",
      " tchNormalization)                                                                                \n",
      "                                                                                                  \n",
      " batch_normalization_88 (Ba  (None, 224, 224, 512)        2048      ['conv2d_88[0][0]']           \n",
      " tchNormalization)                                                                                \n",
      "                                                                                                  \n",
      " add_22 (Add)                (None, 224, 224, 512)        0         ['batch_normalization_87[0][0]\n",
      "                                                                    ',                            \n",
      "                                                                     'batch_normalization_88[0][0]\n",
      "                                                                    ']                            \n",
      "                                                                                                  \n",
      " activation_46 (Activation)  (None, 224, 224, 512)        0         ['add_22[0][0]']              \n",
      "                                                                                                  \n",
      " conv2d_89 (Conv2D)          (None, 112, 112, 768)        3539712   ['activation_46[0][0]']       \n",
      "                                                                                                  \n",
      " batch_normalization_89 (Ba  (None, 112, 112, 768)        3072      ['conv2d_89[0][0]']           \n",
      " tchNormalization)                                                                                \n",
      "                                                                                                  \n",
      " activation_47 (Activation)  (None, 112, 112, 768)        0         ['batch_normalization_89[0][0]\n",
      "                                                                    ']                            \n",
      "                                                                                                  \n",
      " up_sampling2d_8 (UpSamplin  (None, 224, 224, 768)        0         ['activation_47[0][0]']       \n",
      " g2D)                                                                                             \n",
      "                                                                                                  \n",
      " average_pooling2d (Average  (None, 32, 32, 768)          0         ['up_sampling2d_8[0][0]']     \n",
      " Pooling2D)                                                                                       \n",
      "                                                                                                  \n",
      " flatten (Flatten)           (None, 786432)               0         ['average_pooling2d[0][0]']   \n",
      "                                                                                                  \n",
      " dense_2 (Dense)             (None, 2)                    1572866   ['flatten[0][0]']             \n",
      "                                                                                                  \n",
      "==================================================================================================\n",
      "Total params: 19688962 (75.11 MB)\n",
      "Trainable params: 19665282 (75.02 MB)\n",
      "Non-trainable params: 23680 (92.50 KB)\n",
      "__________________________________________________________________________________________________\n"
     ]
    }
   ],
   "source": [
    "# Compile the model\n",
    "hrnet_model.compile(\n",
    "    loss='categorical_crossentropy',\n",
    "    optimizer='adam',\n",
    "    metrics=['accuracy']\n",
    ")\n",
    "\n",
    "# View the structure of the model\n",
    "hrnet_model.summary()"
   ]
  },
  {
   "cell_type": "code",
   "execution_count": 63,
   "metadata": {},
   "outputs": [
    {
     "name": "stdout",
     "output_type": "stream",
     "text": [
      " 70/522 [===>..........................] - ETA: 1:28:27 - loss: 0.3016 - accuracy: 0.8657"
     ]
    }
   ],
   "source": [
    "# Train the model\n",
    "model.fit_generator(\n",
    "    training_set,\n",
    "    validation_data=test_set,\n",
    "    epochs=1,\n",
    "    steps_per_epoch=len(training_set),\n",
    "    validation_steps=len(test_set)\n",
    ")\n"
   ]
  },
  {
   "cell_type": "code",
   "execution_count": null,
   "metadata": {},
   "outputs": [],
   "source": []
  },
  {
   "cell_type": "code",
   "execution_count": null,
   "metadata": {},
   "outputs": [],
   "source": []
  },
  {
   "cell_type": "code",
   "execution_count": null,
   "metadata": {},
   "outputs": [],
   "source": []
  },
  {
   "cell_type": "code",
   "execution_count": null,
   "metadata": {},
   "outputs": [],
   "source": []
  },
  {
   "cell_type": "code",
   "execution_count": null,
   "metadata": {},
   "outputs": [],
   "source": []
  },
  {
   "cell_type": "code",
   "execution_count": null,
   "metadata": {},
   "outputs": [],
   "source": []
  },
  {
   "cell_type": "code",
   "execution_count": 11,
   "metadata": {},
   "outputs": [],
   "source": [
    "# Global Average Pooling Layer\n",
    "x = GlobalAveragePooling2D()(x)"
   ]
  },
  {
   "cell_type": "code",
   "execution_count": 12,
   "metadata": {},
   "outputs": [],
   "source": [
    "# Fully Connected Layer for binary classification (adjust units and activation as needed)\n",
    "x = Dense(256, activation='relu')(x)\n",
    "predictions = Dense(1, activation='sigmoid')(x)"
   ]
  },
  {
   "cell_type": "code",
   "execution_count": 13,
   "metadata": {},
   "outputs": [],
   "source": [
    "# Create a model\n",
    "model = Model(inputs=input_layer, outputs=predictions)\n"
   ]
  },
  {
   "cell_type": "code",
   "execution_count": 14,
   "metadata": {},
   "outputs": [
    {
     "name": "stdout",
     "output_type": "stream",
     "text": [
      "Model: \"model\"\n",
      "__________________________________________________________________________________________________\n",
      " Layer (type)                Output Shape                 Param #   Connected to                  \n",
      "==================================================================================================\n",
      " input_1 (InputLayer)        [(None, 224, 224, 3)]        0         []                            \n",
      "                                                                                                  \n",
      " conv2d (Conv2D)             (None, 224, 224, 64)         1792      ['input_1[0][0]']             \n",
      "                                                                                                  \n",
      " batch_normalization (Batch  (None, 224, 224, 64)         256       ['conv2d[0][0]']              \n",
      " Normalization)                                                                                   \n",
      "                                                                                                  \n",
      " re_lu (ReLU)                (None, 224, 224, 64)         0         ['batch_normalization[0][0]'] \n",
      "                                                                                                  \n",
      " conv2d_1 (Conv2D)           (None, 112, 112, 64)         4160      ['re_lu[0][0]']               \n",
      "                                                                                                  \n",
      " batch_normalization_1 (Bat  (None, 112, 112, 64)         256       ['conv2d_1[0][0]']            \n",
      " chNormalization)                                                                                 \n",
      "                                                                                                  \n",
      " re_lu_1 (ReLU)              (None, 112, 112, 64)         0         ['batch_normalization_1[0][0]'\n",
      "                                                                    ]                             \n",
      "                                                                                                  \n",
      " conv2d_2 (Conv2D)           (None, 112, 112, 64)         36928     ['re_lu_1[0][0]']             \n",
      "                                                                                                  \n",
      " batch_normalization_2 (Bat  (None, 112, 112, 64)         256       ['conv2d_2[0][0]']            \n",
      " chNormalization)                                                                                 \n",
      "                                                                                                  \n",
      " re_lu_2 (ReLU)              (None, 112, 112, 64)         0         ['batch_normalization_2[0][0]'\n",
      "                                                                    ]                             \n",
      "                                                                                                  \n",
      " conv2d_3 (Conv2D)           (None, 112, 112, 256)        16640     ['re_lu_2[0][0]']             \n",
      "                                                                                                  \n",
      " conv2d_4 (Conv2D)           (None, 112, 112, 256)        16640     ['re_lu[0][0]']               \n",
      "                                                                                                  \n",
      " batch_normalization_3 (Bat  (None, 112, 112, 256)        1024      ['conv2d_3[0][0]']            \n",
      " chNormalization)                                                                                 \n",
      "                                                                                                  \n",
      " batch_normalization_4 (Bat  (None, 112, 112, 256)        1024      ['conv2d_4[0][0]']            \n",
      " chNormalization)                                                                                 \n",
      "                                                                                                  \n",
      " add (Add)                   (None, 112, 112, 256)        0         ['batch_normalization_3[0][0]'\n",
      "                                                                    , 'batch_normalization_4[0][0]\n",
      "                                                                    ']                            \n",
      "                                                                                                  \n",
      " re_lu_3 (ReLU)              (None, 112, 112, 256)        0         ['add[0][0]']                 \n",
      "                                                                                                  \n",
      " conv2d_5 (Conv2D)           (None, 56, 56, 64)           16448     ['re_lu_3[0][0]']             \n",
      "                                                                                                  \n",
      " batch_normalization_5 (Bat  (None, 56, 56, 64)           256       ['conv2d_5[0][0]']            \n",
      " chNormalization)                                                                                 \n",
      "                                                                                                  \n",
      " re_lu_4 (ReLU)              (None, 56, 56, 64)           0         ['batch_normalization_5[0][0]'\n",
      "                                                                    ]                             \n",
      "                                                                                                  \n",
      " conv2d_6 (Conv2D)           (None, 56, 56, 64)           36928     ['re_lu_4[0][0]']             \n",
      "                                                                                                  \n",
      " batch_normalization_6 (Bat  (None, 56, 56, 64)           256       ['conv2d_6[0][0]']            \n",
      " chNormalization)                                                                                 \n",
      "                                                                                                  \n",
      " re_lu_5 (ReLU)              (None, 56, 56, 64)           0         ['batch_normalization_6[0][0]'\n",
      "                                                                    ]                             \n",
      "                                                                                                  \n",
      " conv2d_7 (Conv2D)           (None, 56, 56, 256)          16640     ['re_lu_5[0][0]']             \n",
      "                                                                                                  \n",
      " conv2d_8 (Conv2D)           (None, 56, 56, 256)          65792     ['re_lu_3[0][0]']             \n",
      "                                                                                                  \n",
      " batch_normalization_7 (Bat  (None, 56, 56, 256)          1024      ['conv2d_7[0][0]']            \n",
      " chNormalization)                                                                                 \n",
      "                                                                                                  \n",
      " batch_normalization_8 (Bat  (None, 56, 56, 256)          1024      ['conv2d_8[0][0]']            \n",
      " chNormalization)                                                                                 \n",
      "                                                                                                  \n",
      " add_1 (Add)                 (None, 56, 56, 256)          0         ['batch_normalization_7[0][0]'\n",
      "                                                                    , 'batch_normalization_8[0][0]\n",
      "                                                                    ']                            \n",
      "                                                                                                  \n",
      " re_lu_6 (ReLU)              (None, 56, 56, 256)          0         ['add_1[0][0]']               \n",
      "                                                                                                  \n",
      " conv2d_9 (Conv2D)           (None, 28, 28, 64)           16448     ['re_lu_6[0][0]']             \n",
      "                                                                                                  \n",
      " batch_normalization_9 (Bat  (None, 28, 28, 64)           256       ['conv2d_9[0][0]']            \n",
      " chNormalization)                                                                                 \n",
      "                                                                                                  \n",
      " re_lu_7 (ReLU)              (None, 28, 28, 64)           0         ['batch_normalization_9[0][0]'\n",
      "                                                                    ]                             \n",
      "                                                                                                  \n",
      " conv2d_10 (Conv2D)          (None, 28, 28, 64)           36928     ['re_lu_7[0][0]']             \n",
      "                                                                                                  \n",
      " batch_normalization_10 (Ba  (None, 28, 28, 64)           256       ['conv2d_10[0][0]']           \n",
      " tchNormalization)                                                                                \n",
      "                                                                                                  \n",
      " re_lu_8 (ReLU)              (None, 28, 28, 64)           0         ['batch_normalization_10[0][0]\n",
      "                                                                    ']                            \n",
      "                                                                                                  \n",
      " conv2d_11 (Conv2D)          (None, 28, 28, 256)          16640     ['re_lu_8[0][0]']             \n",
      "                                                                                                  \n",
      " conv2d_12 (Conv2D)          (None, 28, 28, 256)          65792     ['re_lu_6[0][0]']             \n",
      "                                                                                                  \n",
      " batch_normalization_11 (Ba  (None, 28, 28, 256)          1024      ['conv2d_11[0][0]']           \n",
      " tchNormalization)                                                                                \n",
      "                                                                                                  \n",
      " batch_normalization_12 (Ba  (None, 28, 28, 256)          1024      ['conv2d_12[0][0]']           \n",
      " tchNormalization)                                                                                \n",
      "                                                                                                  \n",
      " add_2 (Add)                 (None, 28, 28, 256)          0         ['batch_normalization_11[0][0]\n",
      "                                                                    ',                            \n",
      "                                                                     'batch_normalization_12[0][0]\n",
      "                                                                    ']                            \n",
      "                                                                                                  \n",
      " re_lu_9 (ReLU)              (None, 28, 28, 256)          0         ['add_2[0][0]']               \n",
      "                                                                                                  \n",
      " conv2d_13 (Conv2D)          (None, 14, 14, 64)           16448     ['re_lu_9[0][0]']             \n",
      "                                                                                                  \n",
      " batch_normalization_13 (Ba  (None, 14, 14, 64)           256       ['conv2d_13[0][0]']           \n",
      " tchNormalization)                                                                                \n",
      "                                                                                                  \n",
      " re_lu_10 (ReLU)             (None, 14, 14, 64)           0         ['batch_normalization_13[0][0]\n",
      "                                                                    ']                            \n",
      "                                                                                                  \n",
      " conv2d_14 (Conv2D)          (None, 14, 14, 64)           36928     ['re_lu_10[0][0]']            \n",
      "                                                                                                  \n",
      " batch_normalization_14 (Ba  (None, 14, 14, 64)           256       ['conv2d_14[0][0]']           \n",
      " tchNormalization)                                                                                \n",
      "                                                                                                  \n",
      " re_lu_11 (ReLU)             (None, 14, 14, 64)           0         ['batch_normalization_14[0][0]\n",
      "                                                                    ']                            \n",
      "                                                                                                  \n",
      " conv2d_15 (Conv2D)          (None, 14, 14, 256)          16640     ['re_lu_11[0][0]']            \n",
      "                                                                                                  \n",
      " conv2d_16 (Conv2D)          (None, 14, 14, 256)          65792     ['re_lu_9[0][0]']             \n",
      "                                                                                                  \n",
      " batch_normalization_15 (Ba  (None, 14, 14, 256)          1024      ['conv2d_15[0][0]']           \n",
      " tchNormalization)                                                                                \n",
      "                                                                                                  \n",
      " batch_normalization_16 (Ba  (None, 14, 14, 256)          1024      ['conv2d_16[0][0]']           \n",
      " tchNormalization)                                                                                \n",
      "                                                                                                  \n",
      " add_3 (Add)                 (None, 14, 14, 256)          0         ['batch_normalization_15[0][0]\n",
      "                                                                    ',                            \n",
      "                                                                     'batch_normalization_16[0][0]\n",
      "                                                                    ']                            \n",
      "                                                                                                  \n",
      " re_lu_12 (ReLU)             (None, 14, 14, 256)          0         ['add_3[0][0]']               \n",
      "                                                                                                  \n",
      " conv2d_19 (Conv2D)          (None, 14, 14, 512)          131584    ['re_lu_12[0][0]']            \n",
      "                                                                                                  \n",
      " conv2d_20 (Conv2D)          (None, 28, 28, 256)          65792     ['re_lu_9[0][0]']             \n",
      "                                                                                                  \n",
      " batch_normalization_19 (Ba  (None, 14, 14, 512)          2048      ['conv2d_19[0][0]']           \n",
      " tchNormalization)                                                                                \n",
      "                                                                                                  \n",
      " batch_normalization_20 (Ba  (None, 28, 28, 256)          1024      ['conv2d_20[0][0]']           \n",
      " tchNormalization)                                                                                \n",
      "                                                                                                  \n",
      " re_lu_14 (ReLU)             (None, 14, 14, 512)          0         ['batch_normalization_19[0][0]\n",
      "                                                                    ']                            \n",
      "                                                                                                  \n",
      " conv2d_21 (Conv2D)          (None, 28, 28, 512)          131584    ['batch_normalization_20[0][0]\n",
      "                                                                    ']                            \n",
      "                                                                                                  \n",
      " up_sampling2d_1 (UpSamplin  (None, 28, 28, 512)          0         ['re_lu_14[0][0]']            \n",
      " g2D)                                                                                             \n",
      "                                                                                                  \n",
      " batch_normalization_21 (Ba  (None, 28, 28, 512)          2048      ['conv2d_21[0][0]']           \n",
      " tchNormalization)                                                                                \n",
      "                                                                                                  \n",
      " conv2d_22 (Conv2D)          (None, 56, 56, 256)          65792     ['re_lu_6[0][0]']             \n",
      "                                                                                                  \n",
      " add_5 (Add)                 (None, 28, 28, 512)          0         ['up_sampling2d_1[0][0]',     \n",
      "                                                                     'batch_normalization_21[0][0]\n",
      "                                                                    ']                            \n",
      "                                                                                                  \n",
      " batch_normalization_22 (Ba  (None, 56, 56, 256)          1024      ['conv2d_22[0][0]']           \n",
      " tchNormalization)                                                                                \n",
      "                                                                                                  \n",
      " re_lu_15 (ReLU)             (None, 28, 28, 512)          0         ['add_5[0][0]']               \n",
      "                                                                                                  \n",
      " conv2d_23 (Conv2D)          (None, 56, 56, 512)          131584    ['batch_normalization_22[0][0]\n",
      "                                                                    ']                            \n",
      "                                                                                                  \n",
      " up_sampling2d_2 (UpSamplin  (None, 56, 56, 512)          0         ['re_lu_15[0][0]']            \n",
      " g2D)                                                                                             \n",
      "                                                                                                  \n",
      " batch_normalization_23 (Ba  (None, 56, 56, 512)          2048      ['conv2d_23[0][0]']           \n",
      " tchNormalization)                                                                                \n",
      "                                                                                                  \n",
      " conv2d_24 (Conv2D)          (None, 112, 112, 256)        65792     ['re_lu_3[0][0]']             \n",
      "                                                                                                  \n",
      " add_6 (Add)                 (None, 56, 56, 512)          0         ['up_sampling2d_2[0][0]',     \n",
      "                                                                     'batch_normalization_23[0][0]\n",
      "                                                                    ']                            \n",
      "                                                                                                  \n",
      " batch_normalization_24 (Ba  (None, 112, 112, 256)        1024      ['conv2d_24[0][0]']           \n",
      " tchNormalization)                                                                                \n",
      "                                                                                                  \n",
      " re_lu_16 (ReLU)             (None, 56, 56, 512)          0         ['add_6[0][0]']               \n",
      "                                                                                                  \n",
      " conv2d_25 (Conv2D)          (None, 112, 112, 512)        131584    ['batch_normalization_24[0][0]\n",
      "                                                                    ']                            \n",
      "                                                                                                  \n",
      " up_sampling2d_3 (UpSamplin  (None, 112, 112, 512)        0         ['re_lu_16[0][0]']            \n",
      " g2D)                                                                                             \n",
      "                                                                                                  \n",
      " batch_normalization_25 (Ba  (None, 112, 112, 512)        2048      ['conv2d_25[0][0]']           \n",
      " tchNormalization)                                                                                \n",
      "                                                                                                  \n",
      " conv2d_26 (Conv2D)          (None, 224, 224, 256)        16640     ['re_lu[0][0]']               \n",
      "                                                                                                  \n",
      " add_7 (Add)                 (None, 112, 112, 512)        0         ['up_sampling2d_3[0][0]',     \n",
      "                                                                     'batch_normalization_25[0][0]\n",
      "                                                                    ']                            \n",
      "                                                                                                  \n",
      " batch_normalization_26 (Ba  (None, 224, 224, 256)        1024      ['conv2d_26[0][0]']           \n",
      " tchNormalization)                                                                                \n",
      "                                                                                                  \n",
      " re_lu_17 (ReLU)             (None, 112, 112, 512)        0         ['add_7[0][0]']               \n",
      "                                                                                                  \n",
      " conv2d_27 (Conv2D)          (None, 224, 224, 512)        131584    ['batch_normalization_26[0][0]\n",
      "                                                                    ']                            \n",
      "                                                                                                  \n",
      " up_sampling2d_4 (UpSamplin  (None, 224, 224, 512)        0         ['re_lu_17[0][0]']            \n",
      " g2D)                                                                                             \n",
      "                                                                                                  \n",
      " batch_normalization_27 (Ba  (None, 224, 224, 512)        2048      ['conv2d_27[0][0]']           \n",
      " tchNormalization)                                                                                \n",
      "                                                                                                  \n",
      " add_8 (Add)                 (None, 224, 224, 512)        0         ['up_sampling2d_4[0][0]',     \n",
      "                                                                     'batch_normalization_27[0][0]\n",
      "                                                                    ']                            \n",
      "                                                                                                  \n",
      " re_lu_18 (ReLU)             (None, 224, 224, 512)        0         ['add_8[0][0]']               \n",
      "                                                                                                  \n",
      " global_average_pooling2d (  (None, 512)                  0         ['re_lu_18[0][0]']            \n",
      " GlobalAveragePooling2D)                                                                          \n",
      "                                                                                                  \n",
      " dense (Dense)               (None, 256)                  131328    ['global_average_pooling2d[0][\n",
      "                                                                    0]']                          \n",
      "                                                                                                  \n",
      " dense_1 (Dense)             (None, 1)                    257       ['dense[0][0]']               \n",
      "                                                                                                  \n",
      "==================================================================================================\n",
      "Total params: 1511937 (5.77 MB)\n",
      "Trainable params: 1499521 (5.72 MB)\n",
      "Non-trainable params: 12416 (48.50 KB)\n",
      "__________________________________________________________________________________________________\n"
     ]
    }
   ],
   "source": [
    "# View the structure of the model\n",
    "model.summary()\n"
   ]
  },
  {
   "cell_type": "code",
   "execution_count": 15,
   "metadata": {},
   "outputs": [],
   "source": [
    "# Compile the model\n",
    "model.compile(\n",
    "    loss='binary_crossentropy',\n",
    "    optimizer='adam',\n",
    "    metrics=['accuracy']\n",
    ")"
   ]
  },
  {
   "cell_type": "code",
   "execution_count": 16,
   "metadata": {},
   "outputs": [],
   "source": [
    "# Create image data generators for the training and validation data\n",
    "train_datagen = ImageDataGenerator(\n",
    "    rescale=1.0 / 255,\n",
    "    shear_range=0.2,\n",
    "    zoom_range=0.2,\n",
    "    horizontal_flip=True\n",
    ")\n",
    "\n",
    "test_datagen = ImageDataGenerator(rescale=1.0 / 255)\n"
   ]
  },
  {
   "cell_type": "code",
   "execution_count": 17,
   "metadata": {},
   "outputs": [
    {
     "name": "stdout",
     "output_type": "stream",
     "text": [
      "Found 5216 images belonging to 2 classes.\n",
      "Found 624 images belonging to 2 classes.\n"
     ]
    }
   ],
   "source": [
    "# Generate training and validation data\n",
    "training_set = train_datagen.flow_from_directory(\n",
    "    'chest_xray/train',\n",
    "    target_size=IMAGE_SIZE,\n",
    "    batch_size=10,\n",
    "    class_mode='binary'\n",
    ")\n",
    "\n",
    "test_set = test_datagen.flow_from_directory(\n",
    "    'chest_xray/test',\n",
    "    target_size=IMAGE_SIZE,\n",
    "    batch_size=10,\n",
    "    class_mode='binary'\n",
    ")"
   ]
  },
  {
   "cell_type": "code",
   "execution_count": 18,
   "metadata": {},
   "outputs": [
    {
     "name": "stdout",
     "output_type": "stream",
     "text": [
      "522/522 [==============================] - 62428s 120s/step - loss: 0.3545 - accuracy: 0.8464 - val_loss: 0.5436 - val_accuracy: 0.7420\n"
     ]
    },
    {
     "data": {
      "text/plain": [
       "<keras.src.callbacks.History at 0x292994e10>"
      ]
     },
     "execution_count": 18,
     "metadata": {},
     "output_type": "execute_result"
    }
   ],
   "source": [
    "# Train the model\n",
    "model.fit(\n",
    "    training_set,\n",
    "    validation_data=test_set,\n",
    "    epochs=1,  # Adjust the number of epochs as needed\n",
    ")"
   ]
  },
  {
   "cell_type": "code",
   "execution_count": 43,
   "metadata": {},
   "outputs": [
    {
     "name": "stdout",
     "output_type": "stream",
     "text": [
      "63/63 [==============================] - 101s 2s/step\n"
     ]
    }
   ],
   "source": [
    "# Evaluate the model\n",
    "test_set.reset()  # Reset the test_set generator for consistent results\n",
    "y_pred = model.predict(test_set)\n",
    "y_pred = (y_pred > 0.5)  # Convert probabilities to binary predictions\n"
   ]
  },
  {
   "cell_type": "code",
   "execution_count": 44,
   "metadata": {},
   "outputs": [],
   "source": [
    "# Get true labels\n",
    "true_labels = test_set.classes"
   ]
  },
  {
   "cell_type": "code",
   "execution_count": 45,
   "metadata": {},
   "outputs": [],
   "source": [
    "# Calculate metrics\n",
    "accuracy = accuracy_score(true_labels, y_pred)\n",
    "precision = precision_score(true_labels, y_pred)\n",
    "recall = recall_score(true_labels, y_pred)\n",
    "f1 = f1_score(true_labels, y_pred)"
   ]
  },
  {
   "cell_type": "code",
   "execution_count": 46,
   "metadata": {},
   "outputs": [
    {
     "name": "stdout",
     "output_type": "stream",
     "text": [
      "Accuracy: 56.57%\n",
      "Precision: 0.62\n",
      "Recall: 0.82\n",
      "F1 Score: 0.70\n"
     ]
    },
    {
     "data": {
      "image/png": "[encoded data removed]",
      "text/plain": [
       "<Figure size 600x600 with 1 Axes>"
      ]
     },
     "metadata": {},
     "output_type": "display_data"
    }
   ],
   "source": [
    "print(\"Accuracy: {:.2f}%\".format(accuracy * 100))\n",
    "print(\"Precision: {:.2f}\".format(precision))\n",
    "print(\"Recall: {:.2f}\".format(recall))\n",
    "print(\"F1 Score: {:.2f}\".format(f1))\n",
    "\n",
    "# Create and plot the confusion matrix\n",
    "conf_matrix = confusion_matrix(true_labels, y_pred)\n",
    "plt.figure(figsize=(6, 6))\n",
    "sns.heatmap(conf_matrix, annot=True, fmt=\"d\", cmap=\"Blues\", cbar=False, xticklabels=['Normal', 'Pneumonia'], yticklabels=['Normal', 'Pneumonia'])\n",
    "plt.xlabel('Predicted')\n",
    "plt.ylabel('Actual')\n",
    "plt.show()"
   ]
  },
  {
   "cell_type": "code",
   "execution_count": 29,
   "metadata": {},
   "outputs": [
    {
     "name": "stdout",
     "output_type": "stream",
     "text": [
      "1/1 [==============================] - 0s 412ms/step\n",
      "Person is Affected By PNEUMONIA\n"
     ]
    }
   ],
   "source": [
    "# Load and preprocess an image for prediction\n",
    "from keras.preprocessing import image\n",
    "img = image.load_img('chest_xray/test/Normal/IM-0001-0001.jpeg', target_size=(224, 224))\n",
    "x = image.img_to_array(img)\n",
    "x = np.expand_dims(x, axis=0)\n",
    "img_data = preprocess_input(x)\n",
    "classes = model.predict(img_data)\n",
    "result = int(classes[0][0])\n",
    "\n",
    "if result == 0:\n",
    "    print(\"Person is Affected By PNEUMONIA\")\n",
    "else:\n",
    "    print(\"Result is Normal\")\n"
   ]
  },
  {
   "cell_type": "code",
   "execution_count": null,
   "metadata": {},
   "outputs": [],
   "source": []
  },
  {
   "cell_type": "code",
   "execution_count": null,
   "metadata": {},
   "outputs": [],
   "source": []
  },
  {
   "cell_type": "code",
   "execution_count": null,
   "metadata": {},
   "outputs": [],
   "source": []
  },
  {
   "cell_type": "code",
   "execution_count": 30,
   "metadata": {},
   "outputs": [],
   "source": [
    "# Initialize an empty list to store true and predicted labels\n",
    "true_labels = []\n",
    "predicted_labels = []"
   ]
  },
  {
   "cell_type": "code",
   "execution_count": 39,
   "metadata": {},
   "outputs": [
    {
     "name": "stdout",
     "output_type": "stream",
     "text": [
      "1/1 [==============================] - 2s 2s/step\n",
      "1/1 [==============================] - 2s 2s/step\n",
      "1/1 [==============================] - 2s 2s/step\n",
      "1/1 [==============================] - 2s 2s/step\n",
      "1/1 [==============================] - 1s 1s/step\n",
      "1/1 [==============================] - 2s 2s/step\n",
      "1/1 [==============================] - 2s 2s/step\n",
      "1/1 [==============================] - 1s 1s/step\n",
      "1/1 [==============================] - 2s 2s/step\n",
      "1/1 [==============================] - 1s 1s/step\n",
      "1/1 [==============================] - 1s 1s/step\n",
      "1/1 [==============================] - 1s 1s/step\n",
      "1/1 [==============================] - 1s 1s/step\n",
      "1/1 [==============================] - 1s 1s/step\n",
      "1/1 [==============================] - 1s 1s/step\n",
      "1/1 [==============================] - 1s 1s/step\n",
      "1/1 [==============================] - 1s 1s/step\n",
      "1/1 [==============================] - 2s 2s/step\n",
      "1/1 [==============================] - 1s 1s/step\n",
      "1/1 [==============================] - 1s 1s/step\n",
      "1/1 [==============================] - 1s 1s/step\n",
      "1/1 [==============================] - 1s 1s/step\n",
      "1/1 [==============================] - 1s 1s/step\n",
      "1/1 [==============================] - 1s 1s/step\n",
      "1/1 [==============================] - 2s 2s/step\n",
      "1/1 [==============================] - 1s 1s/step\n",
      "1/1 [==============================] - 1s 1s/step\n",
      "1/1 [==============================] - 2s 2s/step\n",
      "1/1 [==============================] - 1s 1s/step\n",
      "1/1 [==============================] - 1s 1s/step\n",
      "1/1 [==============================] - 2s 2s/step\n",
      "1/1 [==============================] - 1s 1s/step\n",
      "1/1 [==============================] - 1s 1s/step\n",
      "1/1 [==============================] - 1s 1s/step\n",
      "1/1 [==============================] - 1s 1s/step\n",
      "1/1 [==============================] - 2s 2s/step\n",
      "1/1 [==============================] - 1s 1s/step\n",
      "1/1 [==============================] - 1s 1s/step\n",
      "1/1 [==============================] - 2s 2s/step\n",
      "1/1 [==============================] - 1s 1s/step\n",
      "1/1 [==============================] - 1s 1s/step\n",
      "1/1 [==============================] - 1s 1s/step\n",
      "1/1 [==============================] - 1s 1s/step\n",
      "1/1 [==============================] - 1s 1s/step\n",
      "1/1 [==============================] - 1s 1s/step\n",
      "1/1 [==============================] - 1s 1s/step\n",
      "1/1 [==============================] - 2s 2s/step\n",
      "1/1 [==============================] - 1s 1s/step\n",
      "1/1 [==============================] - 2s 2s/step\n",
      "1/1 [==============================] - 1s 1s/step\n",
      "1/1 [==============================] - 1s 1s/step\n",
      "1/1 [==============================] - 1s 1s/step\n",
      "1/1 [==============================] - 2s 2s/step\n",
      "1/1 [==============================] - 2s 2s/step\n",
      "1/1 [==============================] - 1s 1s/step\n",
      "1/1 [==============================] - 2s 2s/step\n",
      "1/1 [==============================] - 2s 2s/step\n",
      "1/1 [==============================] - 2s 2s/step\n",
      "1/1 [==============================] - 1s 1s/step\n",
      "1/1 [==============================] - 2s 2s/step\n",
      "1/1 [==============================] - 2s 2s/step\n",
      "1/1 [==============================] - 2s 2s/step\n",
      "1/1 [==============================] - 1s 523ms/step\n"
     ]
    }
   ],
   "source": [
    "# Initialize Python lists to store true and predicted labels\n",
    "true_labels = []\n",
    "predicted_labels = []\n",
    "\n",
    "# Loop through the test set and predict labels\n",
    "for i in range(len(test_set)):\n",
    "    batch = test_set[i]\n",
    "    images, labels = batch\n",
    "    predictions = model.predict(images)\n",
    "\n",
    "    # Convert one-hot encoded labels to class labels\n",
    "    true_labels.append(np.argmax(labels, axis=0))\n",
    "    predicted_labels.append(np.argmax(predictions, axis=0))\n"
   ]
  },
  {
   "cell_type": "code",
   "execution_count": 41,
   "metadata": {},
   "outputs": [
    {
     "data": {
      "text/plain": [
       "([<matplotlib.axis.YTick at 0x1703bf090>,\n",
       "  <matplotlib.axis.YTick at 0x171075d90>],\n",
       " [Text(0, 0, 'Normal'), Text(0, 1, 'PNEUMONIA')])"
      ]
     },
     "execution_count": 41,
     "metadata": {},
     "output_type": "execute_result"
    },
    {
     "data": {
      "image/png": "[encoded data removed]",
      "text/plain": [
       "<Figure size 640x480 with 1 Axes>"
      ]
     },
     "metadata": {},
     "output_type": "display_data"
    }
   ],
   "source": [
    "class_labels = ['Normal', 'PNEUMONIA']\n",
    "plt.xticks(range(len(class_labels)), class_labels)\n",
    "plt.yticks(range(len(class_labels)), class_labels)\n"
   ]
  },
  {
   "cell_type": "code",
   "execution_count": 42,
   "metadata": {},
   "outputs": [
    {
     "ename": "ValueError",
     "evalue": "The number of FixedLocator locations (10), usually from a call to set_ticks, does not match the number of labels (2).",
     "output_type": "error",
     "traceback": [
      "\u001b[0;31m---------------------------------------------------------------------------\u001b[0m",
      "\u001b[0;31mValueError\u001b[0m                                Traceback (most recent call last)",
      "\u001b[1;32m/Users/hemu/Desktop/Updated_work_on_Deep_Learning/Research_work_on_Deep_Learning/Pneumonia/chest_xray/Pneumonia_models/HRNET_Model.ipynb Cell 22\u001b[0m line \u001b[0;36m9\n\u001b[1;32m      <a href='vscode-notebook-cell:/Users/hemu/Desktop/Updated_work_on_Deep_Learning/Research_work_on_Deep_Learning/Pneumonia/chest_xray/Pneumonia_models/HRNET_Model.ipynb#X40sZmlsZQ%3D%3D?line=6'>7</a>\u001b[0m plt\u001b[39m.\u001b[39mylabel(\u001b[39m'\u001b[39m\u001b[39mTrue Labels\u001b[39m\u001b[39m'\u001b[39m)\n\u001b[1;32m      <a href='vscode-notebook-cell:/Users/hemu/Desktop/Updated_work_on_Deep_Learning/Research_work_on_Deep_Learning/Pneumonia/chest_xray/Pneumonia_models/HRNET_Model.ipynb#X40sZmlsZQ%3D%3D?line=7'>8</a>\u001b[0m plt\u001b[39m.\u001b[39mtitle(\u001b[39m'\u001b[39m\u001b[39mConfusion Matrix\u001b[39m\u001b[39m'\u001b[39m)\n\u001b[0;32m----> <a href='vscode-notebook-cell:/Users/hemu/Desktop/Updated_work_on_Deep_Learning/Research_work_on_Deep_Learning/Pneumonia/chest_xray/Pneumonia_models/HRNET_Model.ipynb#X40sZmlsZQ%3D%3D?line=8'>9</a>\u001b[0m plt\u001b[39m.\u001b[39;49mxticks(np\u001b[39m.\u001b[39;49marange(\u001b[39mlen\u001b[39;49m(conf_matrix)) \u001b[39m+\u001b[39;49m \u001b[39m0.5\u001b[39;49m, [\u001b[39m'\u001b[39;49m\u001b[39mClass 0\u001b[39;49m\u001b[39m'\u001b[39;49m, \u001b[39m'\u001b[39;49m\u001b[39mClass 1\u001b[39;49m\u001b[39m'\u001b[39;49m])  \u001b[39m# Modify class labels accordingly\u001b[39;00m\n\u001b[1;32m     <a href='vscode-notebook-cell:/Users/hemu/Desktop/Updated_work_on_Deep_Learning/Research_work_on_Deep_Learning/Pneumonia/chest_xray/Pneumonia_models/HRNET_Model.ipynb#X40sZmlsZQ%3D%3D?line=9'>10</a>\u001b[0m plt\u001b[39m.\u001b[39myticks(np\u001b[39m.\u001b[39marange(\u001b[39mlen\u001b[39m(conf_matrix)) \u001b[39m+\u001b[39m \u001b[39m0.5\u001b[39m, [\u001b[39m'\u001b[39m\u001b[39mClass 0\u001b[39m\u001b[39m'\u001b[39m, \u001b[39m'\u001b[39m\u001b[39mClass 1\u001b[39m\u001b[39m'\u001b[39m])  \u001b[39m# Modify class labels accordingly\u001b[39;00m\n\u001b[1;32m     <a href='vscode-notebook-cell:/Users/hemu/Desktop/Updated_work_on_Deep_Learning/Research_work_on_Deep_Learning/Pneumonia/chest_xray/Pneumonia_models/HRNET_Model.ipynb#X40sZmlsZQ%3D%3D?line=10'>11</a>\u001b[0m plt\u001b[39m.\u001b[39mshow()\n",
      "File \u001b[0;32m/Library/Frameworks/Python.framework/Versions/3.11/lib/python3.11/site-packages/matplotlib/pyplot.py:1893\u001b[0m, in \u001b[0;36mxticks\u001b[0;34m(ticks, labels, minor, **kwargs)\u001b[0m\n\u001b[1;32m   1891\u001b[0m         l\u001b[39m.\u001b[39m_internal_update(kwargs)\n\u001b[1;32m   1892\u001b[0m \u001b[39melse\u001b[39;00m:\n\u001b[0;32m-> 1893\u001b[0m     labels \u001b[39m=\u001b[39m ax\u001b[39m.\u001b[39;49mset_xticklabels(labels, minor\u001b[39m=\u001b[39;49mminor, \u001b[39m*\u001b[39;49m\u001b[39m*\u001b[39;49mkwargs)\n\u001b[1;32m   1895\u001b[0m \u001b[39mreturn\u001b[39;00m locs, labels\n",
      "File \u001b[0;32m/Library/Frameworks/Python.framework/Versions/3.11/lib/python3.11/site-packages/matplotlib/axes/_base.py:74\u001b[0m, in \u001b[0;36m_axis_method_wrapper.__set_name__.<locals>.wrapper\u001b[0;34m(self, *args, **kwargs)\u001b[0m\n\u001b[1;32m     73\u001b[0m \u001b[39mdef\u001b[39;00m \u001b[39mwrapper\u001b[39m(\u001b[39mself\u001b[39m, \u001b[39m*\u001b[39margs, \u001b[39m*\u001b[39m\u001b[39m*\u001b[39mkwargs):\n\u001b[0;32m---> 74\u001b[0m     \u001b[39mreturn\u001b[39;00m get_method(\u001b[39mself\u001b[39;49m)(\u001b[39m*\u001b[39;49margs, \u001b[39m*\u001b[39;49m\u001b[39m*\u001b[39;49mkwargs)\n",
      "File \u001b[0;32m/Library/Frameworks/Python.framework/Versions/3.11/lib/python3.11/site-packages/matplotlib/_api/deprecation.py:297\u001b[0m, in \u001b[0;36mrename_parameter.<locals>.wrapper\u001b[0;34m(*args, **kwargs)\u001b[0m\n\u001b[1;32m    292\u001b[0m     warn_deprecated(\n\u001b[1;32m    293\u001b[0m         since, message\u001b[39m=\u001b[39m\u001b[39mf\u001b[39m\u001b[39m\"\u001b[39m\u001b[39mThe \u001b[39m\u001b[39m{\u001b[39;00mold\u001b[39m!r}\u001b[39;00m\u001b[39m parameter of \u001b[39m\u001b[39m{\u001b[39;00mfunc\u001b[39m.\u001b[39m\u001b[39m__name__\u001b[39m\u001b[39m}\u001b[39;00m\u001b[39m() \u001b[39m\u001b[39m\"\u001b[39m\n\u001b[1;32m    294\u001b[0m         \u001b[39mf\u001b[39m\u001b[39m\"\u001b[39m\u001b[39mhas been renamed \u001b[39m\u001b[39m{\u001b[39;00mnew\u001b[39m!r}\u001b[39;00m\u001b[39m since Matplotlib \u001b[39m\u001b[39m{\u001b[39;00msince\u001b[39m}\u001b[39;00m\u001b[39m; support \u001b[39m\u001b[39m\"\u001b[39m\n\u001b[1;32m    295\u001b[0m         \u001b[39mf\u001b[39m\u001b[39m\"\u001b[39m\u001b[39mfor the old name will be dropped %(removal)s.\u001b[39m\u001b[39m\"\u001b[39m)\n\u001b[1;32m    296\u001b[0m     kwargs[new] \u001b[39m=\u001b[39m kwargs\u001b[39m.\u001b[39mpop(old)\n\u001b[0;32m--> 297\u001b[0m \u001b[39mreturn\u001b[39;00m func(\u001b[39m*\u001b[39;49margs, \u001b[39m*\u001b[39;49m\u001b[39m*\u001b[39;49mkwargs)\n",
      "File \u001b[0;32m/Library/Frameworks/Python.framework/Versions/3.11/lib/python3.11/site-packages/matplotlib/axis.py:1969\u001b[0m, in \u001b[0;36mAxis.set_ticklabels\u001b[0;34m(self, labels, minor, fontdict, **kwargs)\u001b[0m\n\u001b[1;32m   1965\u001b[0m \u001b[39mif\u001b[39;00m \u001b[39misinstance\u001b[39m(locator, mticker\u001b[39m.\u001b[39mFixedLocator):\n\u001b[1;32m   1966\u001b[0m     \u001b[39m# Passing [] as a list of labels is often used as a way to\u001b[39;00m\n\u001b[1;32m   1967\u001b[0m     \u001b[39m# remove all tick labels, so only error for > 0 labels\u001b[39;00m\n\u001b[1;32m   1968\u001b[0m     \u001b[39mif\u001b[39;00m \u001b[39mlen\u001b[39m(locator\u001b[39m.\u001b[39mlocs) \u001b[39m!=\u001b[39m \u001b[39mlen\u001b[39m(labels) \u001b[39mand\u001b[39;00m \u001b[39mlen\u001b[39m(labels) \u001b[39m!=\u001b[39m \u001b[39m0\u001b[39m:\n\u001b[0;32m-> 1969\u001b[0m         \u001b[39mraise\u001b[39;00m \u001b[39mValueError\u001b[39;00m(\n\u001b[1;32m   1970\u001b[0m             \u001b[39m\"\u001b[39m\u001b[39mThe number of FixedLocator locations\u001b[39m\u001b[39m\"\u001b[39m\n\u001b[1;32m   1971\u001b[0m             \u001b[39mf\u001b[39m\u001b[39m\"\u001b[39m\u001b[39m (\u001b[39m\u001b[39m{\u001b[39;00m\u001b[39mlen\u001b[39m(locator\u001b[39m.\u001b[39mlocs)\u001b[39m}\u001b[39;00m\u001b[39m), usually from a call to\u001b[39m\u001b[39m\"\u001b[39m\n\u001b[1;32m   1972\u001b[0m             \u001b[39m\"\u001b[39m\u001b[39m set_ticks, does not match\u001b[39m\u001b[39m\"\u001b[39m\n\u001b[1;32m   1973\u001b[0m             \u001b[39mf\u001b[39m\u001b[39m\"\u001b[39m\u001b[39m the number of labels (\u001b[39m\u001b[39m{\u001b[39;00m\u001b[39mlen\u001b[39m(labels)\u001b[39m}\u001b[39;00m\u001b[39m).\u001b[39m\u001b[39m\"\u001b[39m)\n\u001b[1;32m   1974\u001b[0m     tickd \u001b[39m=\u001b[39m {loc: lab \u001b[39mfor\u001b[39;00m loc, lab \u001b[39min\u001b[39;00m \u001b[39mzip\u001b[39m(locator\u001b[39m.\u001b[39mlocs, labels)}\n\u001b[1;32m   1975\u001b[0m     func \u001b[39m=\u001b[39m functools\u001b[39m.\u001b[39mpartial(\u001b[39mself\u001b[39m\u001b[39m.\u001b[39m_format_with_dict, tickd)\n",
      "\u001b[0;31mValueError\u001b[0m: The number of FixedLocator locations (10), usually from a call to set_ticks, does not match the number of labels (2)."
     ]
    },
    {
     "data": {
      "image/png": "[encoded data removed]",
      "text/plain": [
       "<Figure size 600x400 with 1 Axes>"
      ]
     },
     "metadata": {},
     "output_type": "display_data"
    }
   ],
   "source": [
    "conf_matrix = confusion_matrix(true_labels, predicted_labels)\n",
    "\n",
    "# Plot the confusion matrix as a heatmap\n",
    "plt.figure(figsize=(6, 4))\n",
    "sns.heatmap(conf_matrix, annot=True, cmap='Blues', fmt='d', cbar=False)\n",
    "plt.xlabel('Predicted Labels')\n",
    "plt.ylabel('True Labels')\n",
    "plt.title('Confusion Matrix')\n",
    "plt.xticks(np.arange(len(conf_matrix)) + 0.5, ['Class 0', 'Class 1'])  # Modify class labels accordingly\n",
    "plt.yticks(np.arange(len(conf_matrix)) + 0.5, ['Class 0', 'Class 1'])  # Modify class labels accordingly\n",
    "plt.show()\n"
   ]
  },
  {
   "cell_type": "code",
   "execution_count": null,
   "metadata": {},
   "outputs": [
    {
     "name": "stdout",
     "output_type": "stream",
     "text": [
      "Accuracy   : 0.8477564102564102\n",
      "Precision : 0.8105263157894737\n",
      "Recall    : 0.9871794871794872\n",
      "F1-score  : 0.8901734104046243\n"
     ]
    }
   ],
   "source": [
    "accuracy = accuracy_score(true_labels, predicted_labels)\n",
    "print(\"Accuracy   :\", accuracy)\n",
    "precision = precision_score(true_labels, predicted_labels)\n",
    "print(\"Precision :\", precision)\n",
    "recall = recall_score(true_labels, predicted_labels)\n",
    "print(\"Recall    :\", recall)\n",
    "F1_score = f1_score(true_labels, predicted_labels)\n",
    "print(\"F1-score  :\", F1_score)"
   ]
  },
  {
   "cell_type": "code",
   "execution_count": 32,
   "metadata": {},
   "outputs": [
    {
     "name": "stdout",
     "output_type": "stream",
     "text": [
      "63/63 [==============================] - 85s 1s/step\n"
     ]
    }
   ],
   "source": [
    "# Make predictions on the test set\n",
    "predictions = model.predict(test_set)\n",
    "predicted_labels = [1 if pred > 0.5 else 0 for pred in predictions]  # Assuming a threshold of 0.5\n"
   ]
  },
  {
   "cell_type": "code",
   "execution_count": 33,
   "metadata": {},
   "outputs": [],
   "source": [
    "# Extract the true labels from the test set\n",
    "true_labels = test_set.classes\n"
   ]
  },
  {
   "cell_type": "code",
   "execution_count": 34,
   "metadata": {},
   "outputs": [
    {
     "name": "stdout",
     "output_type": "stream",
     "text": [
      "Confusion Matrix:\n",
      "[[ 39 195]\n",
      " [ 68 322]]\n"
     ]
    }
   ],
   "source": [
    "# Calculate and print the confusion matrix\n",
    "confusion_mat = confusion_matrix(true_labels, predicted_labels)\n",
    "print(\"Confusion Matrix:\")\n",
    "print(confusion_mat)"
   ]
  },
  {
   "cell_type": "code",
   "execution_count": 35,
   "metadata": {},
   "outputs": [
    {
     "name": "stdout",
     "output_type": "stream",
     "text": [
      "Accuracy: 57.85%\n",
      "Precision: 62.28%\n",
      "Recall: 82.56%\n",
      "F1 Score: 0.71\n"
     ]
    }
   ],
   "source": [
    "# Calculate various evaluation metrics\n",
    "accuracy = accuracy_score(true_labels, predicted_labels)\n",
    "precision = precision_score(true_labels, predicted_labels)\n",
    "recall = recall_score(true_labels, predicted_labels)\n",
    "f1 = f1_score(true_labels, predicted_labels)\n",
    "\n",
    "print(\"Accuracy: {:.2f}%\".format(accuracy * 100))\n",
    "print(\"Precision: {:.2f}%\".format(precision * 100))\n",
    "print(\"Recall: {:.2f}%\".format(recall * 100))\n",
    "print(\"F1 Score: {:.2f}\".format(f1))"
   ]
  },
  {
   "cell_type": "code",
   "execution_count": 36,
   "metadata": {},
   "outputs": [
    {
     "data": {
      "image/png": "[encoded data removed]",
      "text/plain": [
       "<Figure size 640x480 with 2 Axes>"
      ]
     },
     "metadata": {},
     "output_type": "display_data"
    }
   ],
   "source": [
    "# You can also visualize the confusion matrix using a heatmap\n",
    "sns.heatmap(confusion_mat, annot=True, fmt=\"d\", cmap=\"Blues\")\n",
    "plt.xlabel(\"Predicted Labels\")\n",
    "plt.ylabel(\"True Labels\")\n",
    "plt.title(\"Confusion Matrix\")\n",
    "plt.show()"
   ]
  },
  {
   "cell_type": "code",
   "execution_count": null,
   "metadata": {},
   "outputs": [],
   "source": []
  }
 ],
 "metadata": {
  "kernelspec": {
   "display_name": "Python 3",
   "language": "python",
   "name": "python3"
  },
  "language_info": {
   "codemirror_mode": {
    "name": "ipython",
    "version": 3
   },
   "file_extension": ".py",
   "mimetype": "text/x-python",
   "name": "python",
   "nbconvert_exporter": "python",
   "pygments_lexer": "ipython3",
   "version": "3.11.5"
  }
 },
 "nbformat": 4,
 "nbformat_minor": 2
}
